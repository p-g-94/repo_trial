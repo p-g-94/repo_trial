{
  "nbformat": 4,
  "nbformat_minor": 0,
  "metadata": {
    "colab": {
      "provenance": [],
      "include_colab_link": true
    },
    "kernelspec": {
      "name": "python2",
      "display_name": "Python 2"
    }
  },
  "cells": [
    {
      "cell_type": "markdown",
      "metadata": {
        "id": "view-in-github",
        "colab_type": "text"
      },
      "source": [
        "<a href=\"https://colab.research.google.com/github/p-g-94/repo_trial/blob/main/DataScienceEcosystem.ipynb\" target=\"_parent\"><img src=\"https://colab.research.google.com/assets/colab-badge.svg\" alt=\"Open In Colab\"/></a>"
      ]
    },
    {
      "cell_type": "markdown",
      "source": [
        "# Data Science Tools and Ecosystem"
      ],
      "metadata": {
        "id": "LhIO7U3S5ywE"
      }
    },
    {
      "cell_type": "markdown",
      "source": [
        "#  In this notebook, Data Science Tools and Ecosystem are summarized"
      ],
      "metadata": {
        "id": "3mX1mHO56B4C"
      }
    },
    {
      "cell_type": "markdown",
      "source": [
        "Objectives:\n",
        "\n",
        "\n",
        "*   utilize python notebook\n",
        "*   basic markdown cell use\n",
        "*   upload to github\n",
        "\n"
      ],
      "metadata": {
        "id": "rS6NdrlX75sr"
      }
    },
    {
      "cell_type": "markdown",
      "source": [
        "#  Some of the popular languages that Data Scientists use are:\n"
      ],
      "metadata": {
        "id": "KBua5PH46V_a"
      }
    },
    {
      "cell_type": "markdown",
      "source": [
        "1. Python\n",
        "2. R\n",
        "3. Julia"
      ],
      "metadata": {
        "id": "YSdMAFH56etE"
      }
    },
    {
      "cell_type": "markdown",
      "source": [
        "#    Some of the commonly used libraries used by Data Scientists include:\n"
      ],
      "metadata": {
        "id": "ts-6NMvZ6zRw"
      }
    },
    {
      "cell_type": "markdown",
      "source": [
        "1. Pandas\n",
        "2. Numpy\n",
        "3. ggplot\n",
        "4. Geopandas"
      ],
      "metadata": {
        "id": "6u72cWYP668Y"
      }
    },
    {
      "cell_type": "markdown",
      "source": [
        "#.    Data Science Tools\n",
        "1. Vs code\n",
        "2. Pycharm\n",
        "3. Jupyter Notebook"
      ],
      "metadata": {
        "id": "vpdIltEP7L91"
      }
    },
    {
      "cell_type": "markdown",
      "source": [
        "#.    Below are a few examples of evaluating arithmetic expressions in Python.\n",
        "\n"
      ],
      "metadata": {
        "id": "fS6OSBzy7bwP"
      }
    },
    {
      "cell_type": "code",
      "execution_count": 3,
      "metadata": {
        "colab": {
          "base_uri": "https://localhost:8080/"
        },
        "id": "m2idGIWr5pPv",
        "outputId": "3401d601-893d-45ef-e391-f1d60cd5f3c8"
      },
      "outputs": [
        {
          "output_type": "execute_result",
          "data": {
            "text/plain": [
              "17"
            ]
          },
          "metadata": {},
          "execution_count": 3
        }
      ],
      "source": [
        "# This a simple arithmetic expression to mutiply then add integers\n",
        "(3*4)+5"
      ]
    },
    {
      "cell_type": "code",
      "source": [
        "#This will convert 200 minutes into hours by diving by 60.\n",
        "200/60"
      ],
      "metadata": {
        "colab": {
          "base_uri": "https://localhost:8080/"
        },
        "id": "wC21NCly6tXq",
        "outputId": "9d265302-5752-42c2-c39c-3ee031321823"
      },
      "execution_count": 4,
      "outputs": [
        {
          "output_type": "execute_result",
          "data": {
            "text/plain": [
              "3.3333333333333335"
            ]
          },
          "metadata": {},
          "execution_count": 4
        }
      ]
    },
    {
      "cell_type": "markdown",
      "source": [
        "## author: paul goebel"
      ],
      "metadata": {
        "id": "YGeMjiS88V9B"
      }
    },
    {
      "cell_type": "code",
      "source": [],
      "metadata": {
        "id": "HDNvg1QR7tgU"
      },
      "execution_count": null,
      "outputs": []
    }
  ]
}